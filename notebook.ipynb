{
 "cells": [
  {
   "cell_type": "markdown",
   "id": "5636a9c4",
   "metadata": {},
   "source": [
    "# **I. LIBRAIRIES & DATA.py**"
   ]
  },
  {
   "cell_type": "code",
   "execution_count": 3,
   "id": "d40fc432",
   "metadata": {},
   "outputs": [],
   "source": [
    "# Libraries\n",
    "\n",
    "import pandas as pd\n",
    "import numpy as np\n",
    "from functools import reduce\n",
    "from datetime import date\n",
    "from datetime import datetime\n",
    "from datetime import timedelta\n",
    "import matplotlib.pyplot as plt\n",
    "from matplotlib.patches import Rectangle as Rect\n",
    "import plotly.express as px\n",
    "import os\n",
    "\n",
    "# RECUP LA DATA\n",
    "# Retrieve the path to the current foldersw\n",
    "current_path = os.getcwd()\n",
    "\n",
    "# Get the path to the csv file folder - in this case the 'data' file\n",
    "csv_path = os.path.join(current_path, 'data\\\\finance')\n",
    "\n",
    "# A EXPLIQUER ICI\n",
    "for file in os.listdir(csv_path):\n",
    "    fd = pd.read_csv(os.path.join(csv_path, file))\n",
    "    globals()[file.rpartition(\".\")[0]] = fd\n",
    "\n",
    "twoday = datetime.strftime(datetime.now(), \"%Y/%m/%d\")\n",
    "t = pd.to_datetime(twoday)\n",
    "t = pd.to_datetime(t)\n",
    "\n",
    "today = datetime.strftime(datetime.now(), \"%d/%m/%Y\")"
   ]
  },
  {
   "cell_type": "code",
   "execution_count": null,
   "id": "430c95d7",
   "metadata": {},
   "outputs": [],
   "source": [
    "figui = px.bar(m.head(90), x=\"Date\", y=\"Magnitude\", hover_data=['Date', 'Magnitude'], color='Magnitude', color_continuous_scale=px.colors.sequential.Cividis,\n",
    "    height=618).update_layout(xaxis={\"rangeslider\":{\"visible\":True}})\n",
    "df = btcusd_d.copy()\n",
    "\n",
    "fig = go.Figure(data=[go.Candlestick(x=df['Date'],\n",
    "                open=df['Open'],\n",
    "                high=df['High'],\n",
    "                low=df['Low'],\n",
    "                close=df['Close'])])\n",
    "fig.add_vline(x=1, x0=\"2020-12-05\", x1=\"2020-12-05\", line_width=1, line_color=\"blue\")\n",
    "fig.add_vline(x=1, x0=\"2021-01-08\", x1=\"2021-01-08\", line_width=1, line_color=\"blue\")\n",
    "fig.add_vline(x=1, x0=\"2021-01-22\", x1=\"2021-01-22\", line_width=1, line_color=\"blue\")\n",
    "fig.add_vline(x=1, x0=\"2021-02-26\", x1=\"2021-02-26\", line_width=1, line_color=\"blue\")\n",
    "fig.add_vline(x=1, x0=\"2021-03-14\", x1=\"2021-03-14\", line_width=1, line_color=\"blue\")\n",
    "fig.add_vline(x=1, x0=\"2021-03-24\", x1=\"2021-03-24\", line_width=1, line_color=\"blue\")\n",
    "fig.add_vline(x=1, x0=\"2021-04-15\", x1=\"2021-04-15\", line_width=1, line_color=\"blue\")\n",
    "fig.add_vline(x=1, x0=\"2021-05-05\", x1=\"2021-05-05\", line_width=1, line_color=\"blue\")\n",
    "fig.add_vline(x=1, x0=\"2021-05-18\", x1=\"2021-05-18\", line_width=1, line_color=\"blue\")\n",
    "fig.add_vline(x=1, x0=\"2021-06-10\", x1=\"2021-06-10\", line_width=1, line_color=\"blue\")\n",
    "fig.add_vline(x=1, x0=\"2021-06-19\", x1=\"2021-06-19\", line_width=1, line_color=\"blue\")\n",
    "fig.add_vline(x=1, x0=\"2021-07-06\", x1=\"2021-07-06\", line_width=1, line_color=\"blue\")\n",
    "fig.add_vline(x=1, x0=\"2021-07-18\", x1=\"2021-07-18\", line_width=1, line_color=\"blue\")\n",
    "fig.add_vline(x=1, x0=\"2021-08-02\", x1=\"2021-08-02\", line_width=1, line_color=\"blue\")\n",
    "fig.add_vline(x=1, x0=\"2021-08-20\", x1=\"2021-08-20\", line_width=1, line_color=\"blue\")\n",
    "fig.add_vline(x=1, x0=\"2021-09-03\", x1=\"2021-09-03\", line_width=1, line_color=\"blue\")\n",
    "fig.add_vline(x=1, x0=\"2021-09-24\", x1=\"2021-09-24\", line_width=1, line_color=\"blue\")\n",
    "fig.add_vline(x=1, x0=\"2021-10-20\", x1=\"2021-10-20\", line_width=1, line_color=\"blue\")\n",
    "fig.add_vline(x=1, x0=\"2021-10-30\", x1=\"2021-10-30\", line_width=1, line_color=\"blue\")       \n",
    "fig.add_vline(x=1, x0=\"2021-11-10\", x1=\"2021-11-10\", line_width=1, line_color=\"blue\")     \n",
    "fig.add_vline(x=1, x0=\"2021-12-05\", x1=\"2021-12-05\", line_width=1, line_color=\"blue\")\n",
    "fig.add_vline(x=1, x0=\"2021-12-30\", x1=\"2021-12-30\", line_width=1, line_color=\"blue\")\n",
    "fig.add_vline(x=1, x0=\"2022-01-13\", x1=\"2022-01-13\", line_width=1, line_color=\"blue\")\n",
    "fig.add_vline(x=1, x0=\"2022-01-25\", x1=\"2022-01-25\", line_width=1, line_color=\"blue\")\n",
    "fig.add_vline(x=1, x0=\"2022-02-08\", x1=\"2022-02-08\", line_width=1, line_color=\"blue\")\n",
    "fig.add_vline(x=1, x0=\"2022-02-17\", x1=\"2022-02-17\", line_width=1, line_color=\"blue\")\n",
    "fig.add_vline(x=1, x0=\"2022-02-24\", x1=\"2022-02-24\", line_width=1, line_color=\"blue\")\n",
    "fig.add_vline(x=1, x0=\"2022-03-02\", x1=\"2022-03-02\", line_width=1, line_color=\"blue\")\n",
    "fig.add_vline(x=1, x0=\"2022-03-20\", x1=\"2022-03-20\", line_width=1, line_color=\"blue\")\n",
    "fig.add_vline(x=1, x0=\"2022-04-06\", x1=\"2022-04-06\", line_width=1, line_color=\"blue\")\n",
    "fig.add_vline(x=1, x0=\"2022-04-19\", x1=\"2022-04-19\", line_width=1, line_color=\"blue\")\n",
    "fig.add_vline(x=1, x0=\"2022-05-16\", x1=\"2022-05-16\", line_width=1, line_color=\"blue\")\n",
    "fig.add_vline(x=1, x0=\"2022-06-06\", x1=\"2022-06-06\", line_width=1, line_color=\"blue\")\n",
    "fig.add_vline(x=1, x0=\"2022-06-20\", x1=\"2022-06-20\", line_width=1, line_color=\"blue\")\n",
    "fig.add_vline(x=1, x0=\"2022-07-11\", x1=\"2022-07-11\", line_width=1, line_color=\"blue\")\n",
    "fig.add_vline(x=1, x0=\"2022-07-29\", x1=\"2022-07-29\", line_width=1, line_color=\"blue\")\n",
    "fig.add_vline(x=1, x0=\"2022-08-12\", x1=\"2022-08-12\", line_width=1, line_color=\"blue\")\n",
    "fig.add_vline(x=1, x0=\"2022-09-07\", x1=\"2022-09-07\", line_width=1, line_color=\"blue\")\n",
    "fig.add_vline(x=1, x0=\"2022-09-14\", x1=\"2022-09-14\", line_width=1, line_color=\"blue\")\n",
    "##fig.add_vline(x=1, x0=\"2022-09-28\", x1=\"2022-09-28\", line_width=1, line_color=\"blue\")\n",
    "fig.add_vline(x=1, x0=\"2022-10-03\", x1=\"2022-10-03\", line_width=1, line_color=\"blue\")\n",
    "fig.add_vline(x=1, x0=\"2022-10-17\", x1=\"2022-10-17\", line_width=1, line_color=\"blue\")\n",
    "fig.add_vline(x=1, x0=\"2022-10-22\", x1=\"2022-10-22\", line_width=1, line_color=\"blue\")\n",
    "fig.add_vline(x=1, x0=\"2022-10-30\", x1=\"2022-10-30\", line_width=1, line_color=\"blue\")        \n",
    "\n",
    "fig.update_layout(\n",
    "autosize=False,\n",
    "width=1920,\n",
    "height=1080)\n",
    "\n",
    "fig.update_layout(plot_bgcolor=\"white\")\n",
    "\n",
    "st.plotly_chart(fig, use_container_width=True)"
   ]
  }
 ],
 "metadata": {
  "kernelspec": {
   "display_name": "Python 3.8.12 ('base')",
   "language": "python",
   "name": "python3"
  },
  "language_info": {
   "codemirror_mode": {
    "name": "ipython",
    "version": 3
   },
   "file_extension": ".py",
   "mimetype": "text/x-python",
   "name": "python",
   "nbconvert_exporter": "python",
   "pygments_lexer": "ipython3",
   "version": "3.8.12"
  },
  "vscode": {
   "interpreter": {
    "hash": "2daf494c3d3416a33b7da9fd1c977a265b6ff713cba9c6284eec5145aa6a7ff1"
   }
  }
 },
 "nbformat": 4,
 "nbformat_minor": 5
}
